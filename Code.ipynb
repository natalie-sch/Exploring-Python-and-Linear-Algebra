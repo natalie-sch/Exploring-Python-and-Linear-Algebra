{
 "cells": [
  {
   "cell_type": "markdown",
   "metadata": {},
   "source": [
    "# Foundations of Data Science Final "
   ]
  },
  {
   "cell_type": "markdown",
   "metadata": {},
   "source": [
    "### Groupmembers: Kitti Kresznai, Natalie Schober, Anastasiya Strohnova), dev-almbo "
   ]
  },
  {
   "cell_type": "markdown",
   "metadata": {},
   "source": [
    "## Question 1"
   ]
  },
  {
   "cell_type": "code",
   "execution_count": 7,
   "metadata": {},
   "outputs": [],
   "source": [
    "class Snumpy:  \n",
    "    \n",
    "    # Question 1.1 \n",
    "    #snp.ones(Int) : the ones function takes an int parameter and returns an array (list) of length\n",
    "    #int parameter and the array contains only ones\n",
    "    \n",
    "    def ones(self, num): #NS: num describes the length of the new vector\n",
    "        array_of_ones = list([1] * num)\n",
    "        return array_of_ones\n",
    "    \n",
    "    # Question 1.2\n",
    "    #snp.zeros(Int): similar to the ones function, expect returns an array of zeros instead of ones\n",
    "    \n",
    "    def zeros(self, num):\n",
    "        array_of_zeros = list([0] * num)\n",
    "        return array_of_zeros\n",
    "    \n",
    "    # Question 1.3\n",
    "    #snp.reshape(array, (row, column)) : takes an array and converts it into the dimensions specified\n",
    "    #by the tuple (row, column). Hence this function converts from a vector to a matrix\n",
    "    \n",
    "    def reshape(self, vector, rctuple):\n",
    "        vector_size = len(vector)\n",
    "        row = rctuple[0] #NS:tuples are defined as ordered sequences of elements\n",
    "        column = rctuple[1]\n",
    "        size_per_row = vector_size//row #NS:Double slash is used for division. The result is an integer (possible remainder is ignored)\n",
    "        size_per_col = vector_size//column\n",
    "        \n",
    "        if row*column == vector_size:\n",
    "            for x in range(row): \n",
    "                if x == 0:              \n",
    "                    first_row = list(vector[x:size_per_row]) #first row from x(equals zero) to size_per_row (as specified before)\n",
    "                    matrix = list([first_row])\n",
    "                else:\n",
    "                    next_row = list(vector[x*size_per_row:(x+1)*size_per_row])\n",
    "                    matrix.append(next_row)\n",
    "            return matrix\n",
    "        else:\n",
    "            raise ValueError('The given dimensions do not match the array size!') #NS: notifies the user that the dimensions are not compatible\n",
    "\n",
    "    \n",
    "    # Question 1.4 \n",
    "    #snp.shape(array) : returns a tuple with the matrix/vector’s dimension e.g. (# rows, # columns)\n",
    "    \n",
    "    def shape(self, array): \n",
    "        row_array = len(array) #NS: calculate the length of the input (row number)\n",
    "        if isinstance(array[0], list): #NS: differentiate between matrix and vector\n",
    "            col_array = len(array[0]) #NS: for a matrix: calculate length of the first list at position 0 to find the number of columns\n",
    "            array_shape = (row_array, col_array) #return dimensions using the length of both lists\n",
    "        else: \n",
    "            array_shape = (row_array,1) #NS: for a vector: the col_array must be 0 (depending on how you view the vector)\n",
    "        \n",
    "        return array_shape\n",
    "    \n",
    "    # Question 1.5\n",
    "    #snp.append(array1, array2) : returns a new vector/matrix that is the combination of the two\n",
    "    #input vectors/matrices. Note that you can’t append a vector to a matrix and vice versa and\n",
    "    #therefore use suitable exception handling and throw/return user friendly error messages\n",
    "    \n",
    "    def append(self, array1, array2):\n",
    "        \n",
    "        input1 = list(array1)\n",
    "        input2 = list(array2)\n",
    "        \n",
    "        # case two matrices\n",
    "        if isinstance(array1[0], list) and isinstance(array2[0], list): #check whether the first element within the outer list is a list too, which is indicative for a matrix\n",
    "            no_of_cols_1 = len(input1[0]) #NS: calculate column dimension \n",
    "            no_of_cols_2 = len(input2[0])\n",
    "            \n",
    "            #check if the two matrices have the same column dimension\n",
    "            if no_of_cols_1 != no_of_cols_2:\n",
    "                raise ArithmeticError('The input matrices do not have the same number of columns.')\n",
    "            else:\n",
    "                #the result of appending the two matrices\n",
    "                result = input1\n",
    "                for row in input2:\n",
    "                    result.append(row)\n",
    "                return result\n",
    "        #error handling when trying to append a vector and a matrix or vice versa\n",
    "        elif isinstance(array1[0], list) and not isinstance(array2[0], list) or not isinstance(array1[0], list) and isinstance(array2[0], list):\n",
    "            raise ArithmeticError('It is not possible to append a matrix to a vector or vice versa.')\n",
    "        else:\n",
    "            #the result of appending vectors\n",
    "            result = input1 + input2\n",
    "            return result\n",
    "    \n",
    "    # Question 1.6\n",
    "    #snp.get(array, (row, column)) : returns the value specified by the coordinate point (row, column) \n",
    "    #of the array provided (can be vector or matrix).\n",
    "    \n",
    "    def get(self, array, r, c):\n",
    "        #the shape function uses the vertical vector form (multiple rows, only one column),\n",
    "        #so the get function was corrected for consistency, as it worked the other way before (one row, multiple columns)\n",
    "        \n",
    "        if any(isinstance(el, list) for el in array):\n",
    "            row_range = len(array)\n",
    "            col_range = len(array[0])\n",
    "            \n",
    "            if r <= row_range and c <= col_range:  #list of lists / matrix \n",
    "                if r<0 or c<0:\n",
    "                    raise ArithmeticError(\"There are no negative columns/rows.\")\n",
    "                else:\n",
    "                    return array[r-1][c-1] #NS: takes zero-indexing into account\n",
    "            else:\n",
    "                raise ArithmeticError(\"This array does not hold this column/row combination.\")\n",
    "        else:  # only one list aka a vector\n",
    "            row_range=len(array)\n",
    "            col_range=1\n",
    "            if c>1:\n",
    "                raise ArithmeticError(\"There is only one column in this array.\")\n",
    "            elif r > row_range and c <= col_range:\n",
    "                raise ArithmeticError(\"This array does not have that many rows.\")\n",
    "            elif r < 0 or c < 0:\n",
    "                raise ArithmeticError(\"There are no negative columns/rows.\")\n",
    "            else: \n",
    "                return array[r-1]  \n",
    "    \n",
    "    \n",
    "    # Question 1.7\n",
    "    #snp.add(array1, array1) : addition on vectors/matrices\n",
    "    \n",
    "    def add(self, array1, array2):\n",
    "        \n",
    "        if isinstance(array1[0], list) & isinstance(array2[0], list):\n",
    "            r1 = len(array1)\n",
    "            c1 = len(array1[0])\n",
    "            r2 = len(array2)\n",
    "            c2 = len(array2[0])\n",
    "        \n",
    "            # Create a new matrix for the matrix sum\n",
    "            C = []\n",
    "            while len(C) < r1:\n",
    "                C.append([])\n",
    "                while len(C[-1]) < c2:\n",
    "                    C[-1].append(0.0)\n",
    "                \n",
    "            if r1 == r2 and c1 == c2: \n",
    " \n",
    "                # Perform element by element sum\n",
    "                for i in range(r1):\n",
    "                    for j in range(c2):\n",
    "                        C[i][j] = array1[i][j] + array2[i][j]\n",
    "                return C\n",
    "        \n",
    "            else:\n",
    "                 raise ArithmeticError('Matrices are not the same size.')\n",
    "        elif isinstance(array1[0], list) and not isinstance(array2[0], list) or not isinstance(array1[0], list) and isinstance(array2[0], list): \n",
    "            raise ArithmeticError('A matrix and a vector cannot be added.')\n",
    "        else:\n",
    "            r1=len(array1)\n",
    "            r2=len(array2)\n",
    "            vector=[]\n",
    "            if r1 == r2:\n",
    "                for (i,j) in zip(array1, array2):\n",
    "                    vector.append(i+j)\n",
    "                return vector\n",
    "            else:\n",
    "                raise ArithmeticError('Vectors are not the same size.')\n",
    "    \n",
    "    \n",
    "    # Question 1.8\n",
    "    #snp.subtract(array1, array1): subtraction on vectors/matrices\n",
    "    \n",
    "    def subtract(self, array1, array2):\n",
    "        \n",
    "        if isinstance(array1[0], list) & isinstance(array2[0], list):\n",
    "            r1 = len(array1)\n",
    "            c1 = len(array1[0])\n",
    "            r2 = len(array2)\n",
    "            c2 = len(array2[0])\n",
    "            # Create a new matrix for the substracted matrix\n",
    "            C = []\n",
    "            while len(C) < r1:\n",
    "                C.append([])\n",
    "                while len(C[-1]) < c2:\n",
    "                    C[-1].append(0.0)\n",
    "            \n",
    "            if r1 == r2 and c1 == c2:\n",
    "                # Perform element by element \n",
    "                for i in range(r1):\n",
    "                    for j in range(c2):\n",
    "                        C[i][j] = array1[i][j] - array2[i][j]\n",
    "                return C\n",
    "            else:\n",
    "                raise ArithmeticError('The two arrays need to be the same size.')\n",
    "        elif isinstance(array1[0], list) and not isinstance(array2[0], list) or not isinstance(array1[0], list) and isinstance(array2[0], list): \n",
    "            raise ArithmeticError('A vector cannot be subtracted from a matrix and vice versa.')\n",
    "        else:\n",
    "            r1=len(array1)\n",
    "            r2=len(array2)\n",
    "            vector=[]\n",
    "            if r1 == r2:\n",
    "                for (i,j) in zip(array1, array2):\n",
    "                    vector.append(i-j)\n",
    "                return vector\n",
    "            else:\n",
    "                raise ArithmeticError('Vectors are not the same size.')\n",
    "    \n",
    "    # Question 1.9\n",
    "    #snp.dotproduct(array1, array1) : computes the dot product between two arrays (which could\n",
    "    # be vector or/and matrix) and returns an appropriate value. Use appropriate exception handling\n",
    "    # to output user-friendly error messages in case the dot product cannot be performed between\n",
    "    # the given arrays.\n",
    "    \n",
    "    def dotproduct(self, array1, array2):\n",
    "        \n",
    "        # check if matrix or vector \n",
    "        if isinstance(array1[0], list) & isinstance(array2[0], list):\n",
    "            row_array2 = len(array2)\n",
    "            col_array1 = len(array1[0])\n",
    "\n",
    "            if col_array1 != row_array2: \n",
    "                raise ArithmeticError('The number of columns in the vector must equal the number of rows in the matrix.')\n",
    "            else:\n",
    "                # transpose second matrix\n",
    "                array2_tp = [list(x) for x in zip(*array2)]\n",
    "                # iterate through first matrix \n",
    "                new_array = []\n",
    "                for i in range(len(array1)):\n",
    "                    row_sum = []\n",
    "                    for m in range(len(array2_tp)): \n",
    "                        temp_sum = 0\n",
    "                        res_list = []\n",
    "                        for n in range(len(array1[i])):\n",
    "                            res_list.append(array1[i][n]*array2_tp[m][n])\n",
    "                        for n in res_list: \n",
    "                            temp_sum = temp_sum + n\n",
    "                        row_sum.append(temp_sum)\n",
    "                    new_array.append(row_sum)\n",
    "                return new_array\n",
    "        elif isinstance(array1[0], list) and not isinstance(array2[0],list): \n",
    "            row_array2 = len(array2)\n",
    "            col_array1 = len(array1[0])\n",
    "\n",
    "            if col_array1 != row_array2: \n",
    "                raise ArithmeticError('The number of columns in the vector must equal the number of rows in the matrix.')\n",
    "            else:\n",
    "                # iterate through first matrix \n",
    "                new_array = []\n",
    "                for i in range(len(array1)):\n",
    "                    temp_sum = 0\n",
    "                    res_list = []\n",
    "                    for n in range(len(array1[i])):\n",
    "                        res_list.append(array1[i][n]*array2[n])\n",
    "                    for n in res_list: \n",
    "                        temp_sum = temp_sum + n\n",
    "                    new_array.append(temp_sum)\n",
    "                return new_array\n",
    "        else: \n",
    "            if len(array1) == len(array2):\n",
    "                dot_product = 0\n",
    "                for i in range(len(array1)):\n",
    "                    dot_product = dot_product + array1[i] * array2[i]\n",
    "                return dot_product \n",
    "            else:\n",
    "                raise ArithmeticError('The two arrays are not the same size.')\n",
    "    \n",
    "    # Question 1.10 \n",
    "    #solver for a system of linear equations using Gaussian elimination and \n",
    "    #row reduction rules for the functionality\n",
    "    \n",
    "    def linear_solver(self,matrixA,vectorB):\n",
    "     \n",
    "        if isinstance(matrixA[0], list):\n",
    "            n = len(matrixA) #NS: calculate length of linear system\n",
    "            columns = list(range(n))\n",
    "                # Gaussian elimination algorithm\n",
    "            if len(matrixA[0]) == len(vectorB):\n",
    "                 # go through matrix row by row \n",
    "                 # make diagonal just 1s & multiply vectorB with the value from each row\n",
    "                for d in range(n): \n",
    "                    if matrixA[d][d] != 0: \n",
    "                        val = 1/matrixA[d][d]\n",
    "                    else: \n",
    "                        val = 1 \n",
    "                    for col in range(n): \n",
    "                        matrixA[d][col]*= val\n",
    "                    vectorB[d] *= val\n",
    "                        # make the elements outside of the diagonal 0 by iterating through each row and column\n",
    "                    for row in columns[0:d] + columns[d+1:]:\n",
    "                        val = matrixA[row][d] \n",
    "                        for col in range(n):\n",
    "                            matrixA[row][col] = matrixA[row][col] - val * matrixA[d][col]\n",
    "                        vectorB[row] = vectorB[row] - val * vectorB[d]\n",
    "                x = vectorB\n",
    "                return (matrixA, x) \n",
    "            else:\n",
    "                raise ArithmeticError('The number of vector rows does not match the number of matrix columns.')\n",
    "\n",
    "        else: \n",
    "            raise ValueError('The A matrix is a vector, please use a matrix.')\n",
    "        \n",
    "    "
   ]
  },
  {
   "cell_type": "markdown",
   "metadata": {},
   "source": [
    "### Testing"
   ]
  },
  {
   "cell_type": "code",
   "execution_count": 8,
   "metadata": {},
   "outputs": [],
   "source": [
    "snp = Snumpy() \n",
    "X = [1,2,3,4,5,6]\n",
    "Y = [2,4,6,8,10,12]\n",
    "Z = [1, -3]\n",
    "C = [4,5,8]\n",
    "A = [[1, 2, 3], \n",
    "    [3, 4, 5],\n",
    "    [3, 5, 6]] \n",
    "B = [[1,2,4], \n",
    "    [3, 4, 4], \n",
    "    [3,5, 3]]\n",
    "V = [1,2,3]"
   ]
  },
  {
   "cell_type": "code",
   "execution_count": 9,
   "metadata": {},
   "outputs": [
    {
     "name": "stdout",
     "output_type": "stream",
     "text": [
      "[1, 1, 1]\n",
      "[0, 0, 0]\n"
     ]
    }
   ],
   "source": [
    "print(snp.ones(3))\n",
    "print(snp.zeros(3))"
   ]
  },
  {
   "cell_type": "code",
   "execution_count": 10,
   "metadata": {},
   "outputs": [
    {
     "name": "stdout",
     "output_type": "stream",
     "text": [
      "(6, 1)\n",
      "[[1, 2], [3, 4], [5, 6]]\n"
     ]
    }
   ],
   "source": [
    "print(snp.shape(X))\n",
    "print(snp.reshape(X,(3,2)))"
   ]
  },
  {
   "cell_type": "code",
   "execution_count": 6,
   "metadata": {},
   "outputs": [
    {
     "name": "stdout",
     "output_type": "stream",
     "text": [
      "[1, 2, 3, 4, 5, 6, 4, 5, 8]\n"
     ]
    },
    {
     "ename": "ArithmeticError",
     "evalue": "It is not possible to append a matrix to a vector or vice versa.",
     "output_type": "error",
     "traceback": [
      "\u001b[0;31m---------------------------------------------------------------------------\u001b[0m",
      "\u001b[0;31mArithmeticError\u001b[0m                           Traceback (most recent call last)",
      "\u001b[0;32m<ipython-input-6-31456617eb58>\u001b[0m in \u001b[0;36m<module>\u001b[0;34m\u001b[0m\n\u001b[1;32m      1\u001b[0m \u001b[0mprint\u001b[0m\u001b[0;34m(\u001b[0m\u001b[0msnp\u001b[0m\u001b[0;34m.\u001b[0m\u001b[0mappend\u001b[0m\u001b[0;34m(\u001b[0m\u001b[0mX\u001b[0m\u001b[0;34m,\u001b[0m\u001b[0mC\u001b[0m\u001b[0;34m)\u001b[0m\u001b[0;34m)\u001b[0m\u001b[0;34m\u001b[0m\u001b[0;34m\u001b[0m\u001b[0m\n\u001b[0;32m----> 2\u001b[0;31m \u001b[0mprint\u001b[0m\u001b[0;34m(\u001b[0m\u001b[0msnp\u001b[0m\u001b[0;34m.\u001b[0m\u001b[0mappend\u001b[0m\u001b[0;34m(\u001b[0m\u001b[0mC\u001b[0m\u001b[0;34m,\u001b[0m\u001b[0mA\u001b[0m\u001b[0;34m)\u001b[0m\u001b[0;34m)\u001b[0m\u001b[0;34m\u001b[0m\u001b[0;34m\u001b[0m\u001b[0m\n\u001b[0m",
      "\u001b[0;32m<ipython-input-2-2516d5c43b85>\u001b[0m in \u001b[0;36mappend\u001b[0;34m(self, array1, array2)\u001b[0m\n\u001b[1;32m     79\u001b[0m         \u001b[0;31m#error handling when trying to append a vector and a matrix or vice versa\u001b[0m\u001b[0;34m\u001b[0m\u001b[0;34m\u001b[0m\u001b[0;34m\u001b[0m\u001b[0m\n\u001b[1;32m     80\u001b[0m         \u001b[0;32melif\u001b[0m \u001b[0misinstance\u001b[0m\u001b[0;34m(\u001b[0m\u001b[0marray1\u001b[0m\u001b[0;34m[\u001b[0m\u001b[0;36m0\u001b[0m\u001b[0;34m]\u001b[0m\u001b[0;34m,\u001b[0m \u001b[0mlist\u001b[0m\u001b[0;34m)\u001b[0m \u001b[0;32mand\u001b[0m \u001b[0;32mnot\u001b[0m \u001b[0misinstance\u001b[0m\u001b[0;34m(\u001b[0m\u001b[0marray2\u001b[0m\u001b[0;34m[\u001b[0m\u001b[0;36m0\u001b[0m\u001b[0;34m]\u001b[0m\u001b[0;34m,\u001b[0m \u001b[0mlist\u001b[0m\u001b[0;34m)\u001b[0m \u001b[0;32mor\u001b[0m \u001b[0;32mnot\u001b[0m \u001b[0misinstance\u001b[0m\u001b[0;34m(\u001b[0m\u001b[0marray1\u001b[0m\u001b[0;34m[\u001b[0m\u001b[0;36m0\u001b[0m\u001b[0;34m]\u001b[0m\u001b[0;34m,\u001b[0m \u001b[0mlist\u001b[0m\u001b[0;34m)\u001b[0m \u001b[0;32mand\u001b[0m \u001b[0misinstance\u001b[0m\u001b[0;34m(\u001b[0m\u001b[0marray2\u001b[0m\u001b[0;34m[\u001b[0m\u001b[0;36m0\u001b[0m\u001b[0;34m]\u001b[0m\u001b[0;34m,\u001b[0m \u001b[0mlist\u001b[0m\u001b[0;34m)\u001b[0m\u001b[0;34m:\u001b[0m\u001b[0;34m\u001b[0m\u001b[0;34m\u001b[0m\u001b[0m\n\u001b[0;32m---> 81\u001b[0;31m             \u001b[0;32mraise\u001b[0m \u001b[0mArithmeticError\u001b[0m\u001b[0;34m(\u001b[0m\u001b[0;34m'It is not possible to append a matrix to a vector or vice versa.'\u001b[0m\u001b[0;34m)\u001b[0m\u001b[0;34m\u001b[0m\u001b[0;34m\u001b[0m\u001b[0m\n\u001b[0m\u001b[1;32m     82\u001b[0m         \u001b[0;32melse\u001b[0m\u001b[0;34m:\u001b[0m\u001b[0;34m\u001b[0m\u001b[0;34m\u001b[0m\u001b[0m\n\u001b[1;32m     83\u001b[0m             \u001b[0;31m#the result of appending vectors\u001b[0m\u001b[0;34m\u001b[0m\u001b[0;34m\u001b[0m\u001b[0;34m\u001b[0m\u001b[0m\n",
      "\u001b[0;31mArithmeticError\u001b[0m: It is not possible to append a matrix to a vector or vice versa."
     ]
    }
   ],
   "source": [
    "print(snp.append(X,C))\n",
    "print(snp.append(C,A))"
   ]
  },
  {
   "cell_type": "code",
   "execution_count": 7,
   "metadata": {},
   "outputs": [
    {
     "name": "stdout",
     "output_type": "stream",
     "text": [
      "[3, 6, 9, 12, 15, 18]\n",
      "[-1, -2, -3, -4, -5, -6]\n"
     ]
    },
    {
     "ename": "ArithmeticError",
     "evalue": "Vectors are not the same size.",
     "output_type": "error",
     "traceback": [
      "\u001b[0;31m---------------------------------------------------------------------------\u001b[0m",
      "\u001b[0;31mArithmeticError\u001b[0m                           Traceback (most recent call last)",
      "\u001b[0;32m<ipython-input-7-a424d62beb40>\u001b[0m in \u001b[0;36m<module>\u001b[0;34m\u001b[0m\n\u001b[1;32m      1\u001b[0m \u001b[0mprint\u001b[0m\u001b[0;34m(\u001b[0m\u001b[0msnp\u001b[0m\u001b[0;34m.\u001b[0m\u001b[0madd\u001b[0m\u001b[0;34m(\u001b[0m\u001b[0mX\u001b[0m\u001b[0;34m,\u001b[0m\u001b[0mY\u001b[0m\u001b[0;34m)\u001b[0m\u001b[0;34m)\u001b[0m\u001b[0;34m\u001b[0m\u001b[0;34m\u001b[0m\u001b[0m\n\u001b[1;32m      2\u001b[0m \u001b[0mprint\u001b[0m\u001b[0;34m(\u001b[0m\u001b[0msnp\u001b[0m\u001b[0;34m.\u001b[0m\u001b[0msubtract\u001b[0m\u001b[0;34m(\u001b[0m\u001b[0mX\u001b[0m\u001b[0;34m,\u001b[0m\u001b[0mY\u001b[0m\u001b[0;34m)\u001b[0m\u001b[0;34m)\u001b[0m\u001b[0;34m\u001b[0m\u001b[0;34m\u001b[0m\u001b[0m\n\u001b[0;32m----> 3\u001b[0;31m \u001b[0mprint\u001b[0m\u001b[0;34m(\u001b[0m\u001b[0msnp\u001b[0m\u001b[0;34m.\u001b[0m\u001b[0msubtract\u001b[0m\u001b[0;34m(\u001b[0m\u001b[0mX\u001b[0m\u001b[0;34m,\u001b[0m\u001b[0mZ\u001b[0m\u001b[0;34m)\u001b[0m\u001b[0;34m)\u001b[0m\u001b[0;34m\u001b[0m\u001b[0;34m\u001b[0m\u001b[0m\n\u001b[0m",
      "\u001b[0;32m<ipython-input-2-2516d5c43b85>\u001b[0m in \u001b[0;36msubtract\u001b[0;34m(self, array1, array2)\u001b[0m\n\u001b[1;32m    205\u001b[0m                 \u001b[0;32mreturn\u001b[0m \u001b[0mvector\u001b[0m\u001b[0;34m\u001b[0m\u001b[0;34m\u001b[0m\u001b[0m\n\u001b[1;32m    206\u001b[0m             \u001b[0;32melse\u001b[0m\u001b[0;34m:\u001b[0m\u001b[0;34m\u001b[0m\u001b[0;34m\u001b[0m\u001b[0m\n\u001b[0;32m--> 207\u001b[0;31m                 \u001b[0;32mraise\u001b[0m \u001b[0mArithmeticError\u001b[0m\u001b[0;34m(\u001b[0m\u001b[0;34m'Vectors are not the same size.'\u001b[0m\u001b[0;34m)\u001b[0m\u001b[0;34m\u001b[0m\u001b[0;34m\u001b[0m\u001b[0m\n\u001b[0m\u001b[1;32m    208\u001b[0m \u001b[0;34m\u001b[0m\u001b[0m\n\u001b[1;32m    209\u001b[0m     \u001b[0;31m# Question 1.9\u001b[0m\u001b[0;34m\u001b[0m\u001b[0;34m\u001b[0m\u001b[0;34m\u001b[0m\u001b[0m\n",
      "\u001b[0;31mArithmeticError\u001b[0m: Vectors are not the same size."
     ]
    }
   ],
   "source": [
    "print(snp.add(X,Y))\n",
    "print(snp.subtract(X,Y))\n",
    "print(snp.subtract(X,Z))"
   ]
  },
  {
   "cell_type": "code",
   "execution_count": 8,
   "metadata": {},
   "outputs": [
    {
     "name": "stdout",
     "output_type": "stream",
     "text": [
      "5\n"
     ]
    }
   ],
   "source": [
    "print(snp.get(X, 5,1))"
   ]
  },
  {
   "cell_type": "code",
   "execution_count": 9,
   "metadata": {},
   "outputs": [
    {
     "name": "stdout",
     "output_type": "stream",
     "text": [
      "182\n"
     ]
    },
    {
     "ename": "ArithmeticError",
     "evalue": "The two arrays are not the same size.",
     "output_type": "error",
     "traceback": [
      "\u001b[0;31m---------------------------------------------------------------------------\u001b[0m",
      "\u001b[0;31mArithmeticError\u001b[0m                           Traceback (most recent call last)",
      "\u001b[0;32m<ipython-input-9-465f560b4b8d>\u001b[0m in \u001b[0;36m<module>\u001b[0;34m\u001b[0m\n\u001b[1;32m      1\u001b[0m \u001b[0mprint\u001b[0m\u001b[0;34m(\u001b[0m\u001b[0msnp\u001b[0m\u001b[0;34m.\u001b[0m\u001b[0mdotproduct\u001b[0m\u001b[0;34m(\u001b[0m\u001b[0mY\u001b[0m\u001b[0;34m,\u001b[0m\u001b[0mX\u001b[0m\u001b[0;34m)\u001b[0m\u001b[0;34m)\u001b[0m\u001b[0;34m\u001b[0m\u001b[0;34m\u001b[0m\u001b[0m\n\u001b[0;32m----> 2\u001b[0;31m \u001b[0mprint\u001b[0m\u001b[0;34m(\u001b[0m\u001b[0msnp\u001b[0m\u001b[0;34m.\u001b[0m\u001b[0mdotproduct\u001b[0m\u001b[0;34m(\u001b[0m\u001b[0mY\u001b[0m\u001b[0;34m,\u001b[0m\u001b[0mA\u001b[0m\u001b[0;34m)\u001b[0m\u001b[0;34m)\u001b[0m\u001b[0;34m\u001b[0m\u001b[0;34m\u001b[0m\u001b[0m\n\u001b[0m",
      "\u001b[0;32m<ipython-input-2-2516d5c43b85>\u001b[0m in \u001b[0;36mdotproduct\u001b[0;34m(self, array1, array2)\u001b[0m\n\u001b[1;32m    265\u001b[0m                 \u001b[0;32mreturn\u001b[0m \u001b[0mdot_product\u001b[0m\u001b[0;34m\u001b[0m\u001b[0;34m\u001b[0m\u001b[0m\n\u001b[1;32m    266\u001b[0m             \u001b[0;32melse\u001b[0m\u001b[0;34m:\u001b[0m\u001b[0;34m\u001b[0m\u001b[0;34m\u001b[0m\u001b[0m\n\u001b[0;32m--> 267\u001b[0;31m                 \u001b[0;32mraise\u001b[0m \u001b[0mArithmeticError\u001b[0m\u001b[0;34m(\u001b[0m\u001b[0;34m'The two arrays are not the same size.'\u001b[0m\u001b[0;34m)\u001b[0m\u001b[0;34m\u001b[0m\u001b[0;34m\u001b[0m\u001b[0m\n\u001b[0m\u001b[1;32m    268\u001b[0m \u001b[0;34m\u001b[0m\u001b[0m\n\u001b[1;32m    269\u001b[0m     \u001b[0;31m# Question 1.10\u001b[0m\u001b[0;34m\u001b[0m\u001b[0;34m\u001b[0m\u001b[0;34m\u001b[0m\u001b[0m\n",
      "\u001b[0;31mArithmeticError\u001b[0m: The two arrays are not the same size."
     ]
    }
   ],
   "source": [
    "print(snp.dotproduct(Y,X))\n",
    "print(snp.dotproduct(Y,A))\n"
   ]
  },
  {
   "cell_type": "code",
   "execution_count": 10,
   "metadata": {},
   "outputs": [
    {
     "name": "stdout",
     "output_type": "stream",
     "text": [
      "[14, 26, 31]\n"
     ]
    }
   ],
   "source": [
    "print(snp.dotproduct(A,V))"
   ]
  },
  {
   "cell_type": "code",
   "execution_count": 11,
   "metadata": {},
   "outputs": [
    {
     "name": "stdout",
     "output_type": "stream",
     "text": [
      "([[1.0, 0.0, 0.0], [0.0, 1.0, 0.0], [-0.0, -0.0, 1.0]], [-2.6, 3.1, 0.1])\n"
     ]
    }
   ],
   "source": [
    "print(snp.linear_solver(B,C))"
   ]
  },
  {
   "cell_type": "markdown",
   "metadata": {},
   "source": [
    "## Question 2"
   ]
  },
  {
   "cell_type": "code",
   "execution_count": 12,
   "metadata": {},
   "outputs": [],
   "source": [
    "#import NumPy and Random libraries\n",
    "import numpy as np\n",
    "import random\n",
    "\n",
    "\n",
    "#Randomly generate a 4-bit binary message\n",
    "def message():\n",
    "    msg = []\n",
    "    #randomly select either a zero or one until there are 4 values appended to the msg list\n",
    "    for i in range(4):\n",
    "        letter = random.choice([0,1])\n",
    "        msg.append(letter)\n",
    "    return np.array(msg)\n",
    "\n",
    "#Check that a custom message is binary and 4-bits\n",
    "def custom_message_check(msg):\n",
    "    binary=[0,1]\n",
    "    for i in msg:\n",
    "        #confirm that each digit is either a one or zero, and that the entire message is no more than 4 digits \n",
    "        if i in binary and len(msg)==4:\n",
    "            continue\n",
    "        else:\n",
    "            raise ValueError(\"Please enter a 4-bit binary word.\")\n",
    "    return np.array(msg)\n",
    "\n",
    "\n",
    "\n",
    "#Hamming's Generator Matrix (7x4)\n",
    "G =  np.array([[1, 1, 0, 1],[1, 0, 1, 1],[1, 0, 0, 0],[0, 1, 1, 1], [0, 1, 0, 0], [0, 0, 1, 0], [0, 0, 0, 1]])\n",
    "\n",
    "#Hamming's Parity-check Matrix (3x7)\n",
    "H = np.array([[1, 0, 1, 0, 1, 0, 1],[0, 1, 1, 0, 0, 1, 1],[0, 0, 0, 1, 1, 1, 1]])\n",
    "\n",
    "#Hamming's Decoder Matrix (4x7)\n",
    "R = np.array([[0,0,1,0,0,0,0], [0,0,0,0,1,0,0], [0,0,0,0,0,1,0],[0,0,0,0,0,0,1]])\n",
    "\n",
    "\n",
    "\n",
    "#Encode the message using Generator Matrix\n",
    "#done by multiplying G and the message to get the dot products, this returns the 7-bit codeword\n",
    "def encode(msg):\n",
    "    enc = np.dot(G, msg)%2  #modulo of 2, to keep code binary\n",
    "    return enc\n",
    "\n",
    "#Check for errors in message after it has been transmitted (gone through the noisy channel) using Parity Check Matrix\n",
    "#done by multiplying H and the codeword to get the dot products, and returns a 3-bit syndrome vector\n",
    "def paritycheck(noisy):\n",
    "    par = np.dot(H, noisy)%2\n",
    "    return par\n",
    "\n",
    "#Decode the corrected (if necessary to correct) message back to original 4-bits using Decoder Matrix\n",
    "def decode(corrected):\n",
    "    dec = np.dot(R, corrected)%2\n",
    "    return dec\n",
    "\n",
    "\n",
    "\n",
    "#Simulate noisy channel by flipping number of bits requested when running function\n",
    "#bits = random.choice([0,1,2]) would be an alternative route to automate process, \n",
    "#but would not allow for deliberate testing and testing of errors outside of scope of Hamming code\n",
    "def noise(enc, bits):\n",
    "    \n",
    "    noisy = np.copy(enc)\n",
    "    #unpack the noisy array to get a list of all indexes (which will serve as the population for the sample)\n",
    "    index=[*range(0,len(noisy),1)]\n",
    "    \n",
    "    #confirm that no more than three bits of error are being introduced (which is unlikely realistically)\n",
    "    possible_bits=[0,1,2,3]\n",
    "    if bits in possible_bits:\n",
    "        #use random.sample to randomly select the number of indexes for bits requested to be flipped\n",
    "        e = random.sample(index, bits)\n",
    "    else:\n",
    "        raise ValueError(\"Please only request between 0 and 3 bits of error to be introducted.\")\n",
    "    \n",
    "    #iterate through sample and flip the bits for the indexes selected\n",
    "    for i in e:\n",
    "        if noisy[i] == 0:\n",
    "            noisy[i] = 1\n",
    "        else:\n",
    "            noisy[i] = 0\n",
    "\n",
    "    return noisy\n",
    "\n",
    "\n",
    "#generate error vector\n",
    "def find_error(par):\n",
    "    #transpose H so as to group values in each column together\n",
    "    #creates a \"library\" of 3-bit arrays to compare the syndrome vector to\n",
    "    H_trans= H.transpose()\n",
    "    error_vector=[]\n",
    "    #iterate through arrays in the matrix and compare them to the syndrome vector\n",
    "    #create a list by appending 0's where the arrays do not match, and a 1 where they do. \n",
    "    for i in H_trans:\n",
    "        if np.array_equal(i,par):\n",
    "            error_vector.append(1)\n",
    "        else:\n",
    "            error_vector.append(0)\n",
    "\n",
    "    error_vector=np.array(error_vector)\n",
    "    return error_vector\n",
    "\n",
    "\n",
    "#add error vector to noisy vector in order to make the correction \n",
    "#by \"flipping\" the one bit that had previously been flipped back to it's original state\n",
    "def correct(noisy, error_vector):\n",
    "    corrected=np.add(noisy,error_vector)%2\n",
    "    return corrected\n",
    "\n",
    "\n",
    "\n",
    "#All above functions combined for complete Hamming function with a custom 4-bit binary word to transmit\n",
    "def customHamming(msg,bits):\n",
    "    \n",
    "    msg = custom_message_check(msg)\n",
    "    print (\"4-bit message: \", msg)\n",
    "    enc = encode(msg)\n",
    "    print (\"Encoded message: \", enc)\n",
    "    noisy = noise(enc, bits)\n",
    "    print (\"Noisy message: \", noisy)\n",
    "    par = paritycheck(noisy)\n",
    "    print (\"Syndrome vector: \", par)\n",
    "    error_vec = find_error(par)\n",
    "    print (\"Error vector: \", error_vec)\n",
    "    corrected = correct(noisy, error_vec)\n",
    "    print (\"Correction attempt: \", corrected)\n",
    "    dec = decode(corrected)\n",
    "    print (\"Decoded message: \", dec)\n",
    "    \n",
    "    #confirm that the original & decoded message match, and that an error was detected via the parity check \n",
    "    if np.array_equal(msg,dec) and np.array_equal(par,[0,0,0])==False:\n",
    "        return \"One error has been detected and has been corrected.\"\n",
    "    \n",
    "    #confirm that the original & decoded message DO NOT match, but that an error was detected via the parity check \n",
    "    elif np.array_equal(msg,dec)==False and np.array_equal(par,[0,0,0])==False:\n",
    "        return \"An error has been detected, but could not be corrected. Please remember, Hamming code is only able to correct one bit errors, and identify one and two bit errors.\"\n",
    "    \n",
    "    #in case of no error detected via the parity check\n",
    "    else:\n",
    "        return \"No error detected, but please remember an error may still be present. Hamming code is only able to detect one and two bit errors.\"\n",
    "        \n",
    "\n",
    "#All above functions combined for complete Hamming function with a randomly generated 4-bit word to transmit\n",
    "def autoHamming(bits):\n",
    "    \n",
    "    msg = message()\n",
    "    print (\"4-bit message: \", msg)\n",
    "    enc = encode(msg)\n",
    "    print (\"Encoded message: \", enc)\n",
    "    noisy = noise(enc, bits)\n",
    "    print (\"Noisy message: \", noisy)\n",
    "    par = paritycheck(noisy)\n",
    "    print (\"Syndrome vector: \", par)\n",
    "    error_vec = find_error(par)\n",
    "    print (\"Error vector: \", error_vec)\n",
    "    corrected = correct(noisy, error_vec)\n",
    "    print (\"Correction attempt: \", corrected)\n",
    "    dec = decode(corrected)\n",
    "    print (\"Decoded message: \", dec)\n",
    "    \n",
    "    #confirm that the original & decoded message match, and that an error was detected via the parity check \n",
    "    if np.array_equal(msg,dec) and np.array_equal(par,[0,0,0])==False:\n",
    "        return \"One error has been detected and has been corrected.\"\n",
    "    \n",
    "    #confirm that the original & decoded message DO NOT match, but that an error was detected via the parity check    \n",
    "    elif np.array_equal(msg,dec)==False and np.array_equal(par,[0,0,0])==False:\n",
    "        return \"An error has been detected, but could not be corrected. Please remember, Hamming code is only able to correct one bit errors, and identify one and two bit errors.\"\n",
    "    \n",
    "    #in case of no error detected via the parity check\n",
    "    else:\n",
    "        return \"No error detected, but please remember an error may still be present. Hamming code is only able to detect one and two bit errors.\"\n",
    "        \n",
    "    \n",
    "#Testing of successful correction of 1 bit errors with custom message entered\n",
    "def MessageCorrection(msg, runs):\n",
    "    trial=0\n",
    "    count=0\n",
    "    bits=1 \n",
    "    \n",
    "    #run the trial the requested number of times\n",
    "    while trial<runs:\n",
    "        msg = custom_message_check(msg)\n",
    "        enc = encode(msg)\n",
    "        noisy = noise(enc, bits)\n",
    "        par = paritycheck(noisy)\n",
    "        error_vec = find_error(par)\n",
    "        corrected = correct(noisy, error_vec)\n",
    "        dec = decode(corrected)\n",
    "\n",
    "        #confirm that the original & decoded message match, and that an error was detected via the parity check \n",
    "        if np.array_equal(msg,dec) and np.array_equal(par,[0,0,0])==False:\n",
    "            count+=1\n",
    "            trial+=1\n",
    "        #in case the original & decoded message DO NOT match\n",
    "        else:\n",
    "            trial+=1\n",
    "            continue\n",
    "        \n",
    "    percentage_correct= (count/runs)*100\n",
    "    return print(\"Out of \", runs,\" runs, Hamming code identified and corrected a one bit error\", percentage_correct, \" percent of the time.\")\n",
    "                \n",
    "    \n",
    "#Testing of successful identification (should be 100% from 1 and 2 bit errors)\n",
    "def ErrorIdentify(bits, runs):\n",
    "    trial=0\n",
    "    count=0\n",
    "    \n",
    "    while trial<runs:\n",
    "        msg = message()\n",
    "        enc = encode(msg)\n",
    "        noisy = noise(enc, bits)\n",
    "        par = paritycheck(noisy)\n",
    "        \n",
    "        #confirm that an error was detected via the parity check \n",
    "        if np.array_equal(par,[0,0,0])==False:\n",
    "            count+=1\n",
    "            trial+=1\n",
    "        #in case an error was not detected via the parity check\n",
    "        else:\n",
    "            trial+=1\n",
    "            continue\n",
    "            \n",
    "    percentage_correct= (count/runs)*100\n",
    "    return print(\"Out of \", runs,\" runs, Hamming code identified the presence of an error \", percentage_correct, \" percent of the time.\")\n",
    "            \n",
    "\n"
   ]
  },
  {
   "cell_type": "markdown",
   "metadata": {},
   "source": [
    "### Test #1: Custom Message Testing - enter a 4-bit binary message (as a list) and how many errors you would like introduced through the \"noisy channel\"."
   ]
  },
  {
   "cell_type": "code",
   "execution_count": 15,
   "metadata": {},
   "outputs": [
    {
     "name": "stdout",
     "output_type": "stream",
     "text": [
      "4-bit message:  [1 0 1 0]\n",
      "Encoded message:  [1 0 1 1 0 1 0]\n",
      "Noisy message:  [1 1 1 1 0 1 0]\n",
      "Syndrome vector:  [0 1 0]\n",
      "Error vector:  [0 1 0 0 0 0 0]\n",
      "Correction attempt:  [1 0 1 1 0 1 0]\n",
      "Decoded message:  [1 0 1 0]\n"
     ]
    },
    {
     "data": {
      "text/plain": [
       "'One error has been detected and has been corrected.'"
      ]
     },
     "execution_count": 15,
     "metadata": {},
     "output_type": "execute_result"
    }
   ],
   "source": [
    "customHamming([1,0,1,0],1)"
   ]
  },
  {
   "cell_type": "code",
   "execution_count": 16,
   "metadata": {},
   "outputs": [
    {
     "ename": "ValueError",
     "evalue": "Please enter a 4-bit binary word.",
     "output_type": "error",
     "traceback": [
      "\u001b[0;31m---------------------------------------------------------------------------\u001b[0m",
      "\u001b[0;31mValueError\u001b[0m                                Traceback (most recent call last)",
      "\u001b[0;32m<ipython-input-16-bdf5efa531f5>\u001b[0m in \u001b[0;36m<module>\u001b[0;34m\u001b[0m\n\u001b[0;32m----> 1\u001b[0;31m \u001b[0mcustomHamming\u001b[0m\u001b[0;34m(\u001b[0m\u001b[0;34m[\u001b[0m\u001b[0;36m1\u001b[0m\u001b[0;34m,\u001b[0m\u001b[0;36m0\u001b[0m\u001b[0;34m,\u001b[0m\u001b[0;36m1\u001b[0m\u001b[0;34m,\u001b[0m\u001b[0;36m10\u001b[0m\u001b[0;34m]\u001b[0m\u001b[0;34m,\u001b[0m\u001b[0;36m1\u001b[0m\u001b[0;34m)\u001b[0m\u001b[0;34m\u001b[0m\u001b[0;34m\u001b[0m\u001b[0m\n\u001b[0m",
      "\u001b[0;32m<ipython-input-12-f8759a820586>\u001b[0m in \u001b[0;36mcustomHamming\u001b[0;34m(msg, bits)\u001b[0m\n\u001b[1;32m    112\u001b[0m \u001b[0;32mdef\u001b[0m \u001b[0mcustomHamming\u001b[0m\u001b[0;34m(\u001b[0m\u001b[0mmsg\u001b[0m\u001b[0;34m,\u001b[0m\u001b[0mbits\u001b[0m\u001b[0;34m)\u001b[0m\u001b[0;34m:\u001b[0m\u001b[0;34m\u001b[0m\u001b[0;34m\u001b[0m\u001b[0m\n\u001b[1;32m    113\u001b[0m \u001b[0;34m\u001b[0m\u001b[0m\n\u001b[0;32m--> 114\u001b[0;31m     \u001b[0mmsg\u001b[0m \u001b[0;34m=\u001b[0m \u001b[0mcustom_message_check\u001b[0m\u001b[0;34m(\u001b[0m\u001b[0mmsg\u001b[0m\u001b[0;34m)\u001b[0m\u001b[0;34m\u001b[0m\u001b[0;34m\u001b[0m\u001b[0m\n\u001b[0m\u001b[1;32m    115\u001b[0m     \u001b[0mprint\u001b[0m \u001b[0;34m(\u001b[0m\u001b[0;34m\"4-bit message: \"\u001b[0m\u001b[0;34m,\u001b[0m \u001b[0mmsg\u001b[0m\u001b[0;34m)\u001b[0m\u001b[0;34m\u001b[0m\u001b[0;34m\u001b[0m\u001b[0m\n\u001b[1;32m    116\u001b[0m     \u001b[0menc\u001b[0m \u001b[0;34m=\u001b[0m \u001b[0mencode\u001b[0m\u001b[0;34m(\u001b[0m\u001b[0mmsg\u001b[0m\u001b[0;34m)\u001b[0m\u001b[0;34m\u001b[0m\u001b[0;34m\u001b[0m\u001b[0m\n",
      "\u001b[0;32m<ipython-input-12-f8759a820586>\u001b[0m in \u001b[0;36mcustom_message_check\u001b[0;34m(msg)\u001b[0m\n\u001b[1;32m     21\u001b[0m             \u001b[0;32mcontinue\u001b[0m\u001b[0;34m\u001b[0m\u001b[0;34m\u001b[0m\u001b[0m\n\u001b[1;32m     22\u001b[0m         \u001b[0;32melse\u001b[0m\u001b[0;34m:\u001b[0m\u001b[0;34m\u001b[0m\u001b[0;34m\u001b[0m\u001b[0m\n\u001b[0;32m---> 23\u001b[0;31m             \u001b[0;32mraise\u001b[0m \u001b[0mValueError\u001b[0m\u001b[0;34m(\u001b[0m\u001b[0;34m\"Please enter a 4-bit binary word.\"\u001b[0m\u001b[0;34m)\u001b[0m\u001b[0;34m\u001b[0m\u001b[0;34m\u001b[0m\u001b[0m\n\u001b[0m\u001b[1;32m     24\u001b[0m     \u001b[0;32mreturn\u001b[0m \u001b[0mnp\u001b[0m\u001b[0;34m.\u001b[0m\u001b[0marray\u001b[0m\u001b[0;34m(\u001b[0m\u001b[0mmsg\u001b[0m\u001b[0;34m)\u001b[0m\u001b[0;34m\u001b[0m\u001b[0;34m\u001b[0m\u001b[0m\n\u001b[1;32m     25\u001b[0m \u001b[0;34m\u001b[0m\u001b[0m\n",
      "\u001b[0;31mValueError\u001b[0m: Please enter a 4-bit binary word."
     ]
    }
   ],
   "source": [
    "customHamming([1,0,1,10],1)"
   ]
  },
  {
   "cell_type": "markdown",
   "metadata": {},
   "source": [
    "### Test 2: Custom message one-bit error correcting capability - enter a 4-bit binary message (as a list) and how many tests to perform."
   ]
  },
  {
   "cell_type": "code",
   "execution_count": 17,
   "metadata": {},
   "outputs": [
    {
     "name": "stdout",
     "output_type": "stream",
     "text": [
      "Out of  10000  runs, Hamming code identified and corrected a one bit error 100.0  percent of the time.\n"
     ]
    }
   ],
   "source": [
    "MessageCorrection([1,0,1,0],10000)"
   ]
  },
  {
   "cell_type": "markdown",
   "metadata": {},
   "source": [
    "### Test #3: Random message generated - Test by changing the input number to how many errors you want introduced through the \"noisy channel\". "
   ]
  },
  {
   "cell_type": "code",
   "execution_count": 26,
   "metadata": {},
   "outputs": [
    {
     "name": "stdout",
     "output_type": "stream",
     "text": [
      "4-bit message:  [0 1 0 1]\n",
      "Encoded message:  [0 1 0 0 1 0 1]\n",
      "Noisy message:  [0 1 0 0 1 0 1]\n",
      "Syndrome vector:  [0 0 0]\n",
      "Error vector:  [0 0 0 0 0 0 0]\n",
      "Correction attempt:  [0 1 0 0 1 0 1]\n",
      "Decoded message:  [0 1 0 1]\n"
     ]
    },
    {
     "data": {
      "text/plain": [
       "'No error detected, but please remember an error may still be present. Hamming code is only able to detect one and two bit errors.'"
      ]
     },
     "execution_count": 26,
     "metadata": {},
     "output_type": "execute_result"
    }
   ],
   "source": [
    "autoHamming(0)"
   ]
  },
  {
   "cell_type": "code",
   "execution_count": 27,
   "metadata": {},
   "outputs": [
    {
     "name": "stdout",
     "output_type": "stream",
     "text": [
      "4-bit message:  [0 0 0 0]\n",
      "Encoded message:  [0 0 0 0 0 0 0]\n",
      "Noisy message:  [0 1 0 0 0 0 0]\n",
      "Syndrome vector:  [0 1 0]\n",
      "Error vector:  [0 1 0 0 0 0 0]\n",
      "Correction attempt:  [0 0 0 0 0 0 0]\n",
      "Decoded message:  [0 0 0 0]\n"
     ]
    },
    {
     "data": {
      "text/plain": [
       "'One error has been detected and has been corrected.'"
      ]
     },
     "execution_count": 27,
     "metadata": {},
     "output_type": "execute_result"
    }
   ],
   "source": [
    "autoHamming(1)"
   ]
  },
  {
   "cell_type": "code",
   "execution_count": 28,
   "metadata": {},
   "outputs": [
    {
     "name": "stdout",
     "output_type": "stream",
     "text": [
      "4-bit message:  [0 1 1 1]\n",
      "Encoded message:  [0 0 0 1 1 1 1]\n",
      "Noisy message:  [0 0 1 0 1 1 1]\n",
      "Syndrome vector:  [1 1 1]\n",
      "Error vector:  [0 0 0 0 0 0 1]\n",
      "Correction attempt:  [0 0 1 0 1 1 0]\n",
      "Decoded message:  [1 1 1 0]\n"
     ]
    },
    {
     "data": {
      "text/plain": [
       "'An error has been detected, but could not be corrected. Please remember, Hamming code is only able to correct one bit errors, and identify one and two bit errors.'"
      ]
     },
     "execution_count": 28,
     "metadata": {},
     "output_type": "execute_result"
    }
   ],
   "source": [
    "autoHamming(2)"
   ]
  },
  {
   "cell_type": "code",
   "execution_count": 29,
   "metadata": {},
   "outputs": [
    {
     "name": "stdout",
     "output_type": "stream",
     "text": [
      "4-bit message:  [0 1 0 0]\n",
      "Encoded message:  [1 0 0 1 1 0 0]\n",
      "Noisy message:  [1 0 1 0 1 0 1]\n",
      "Syndrome vector:  [0 0 0]\n",
      "Error vector:  [0 0 0 0 0 0 0]\n",
      "Correction attempt:  [1 0 1 0 1 0 1]\n",
      "Decoded message:  [1 1 0 1]\n"
     ]
    },
    {
     "data": {
      "text/plain": [
       "'No error detected, but please remember an error may still be present. Hamming code is only able to detect one and two bit errors.'"
      ]
     },
     "execution_count": 29,
     "metadata": {},
     "output_type": "execute_result"
    }
   ],
   "source": [
    "autoHamming(3)"
   ]
  },
  {
   "cell_type": "markdown",
   "metadata": {},
   "source": [
    "### Test #4: Test by entering how many errors you would like to introduce (how many bits to flip) and how many trials you would like to run. Hamming code should identify 100% of 1 and 2 bit errors. "
   ]
  },
  {
   "cell_type": "code",
   "execution_count": 22,
   "metadata": {},
   "outputs": [
    {
     "name": "stdout",
     "output_type": "stream",
     "text": [
      "Out of  10000  runs, Hamming code identified the presence of an error  0.0  percent of the time.\n"
     ]
    }
   ],
   "source": [
    "ErrorIdentify(0,10000)"
   ]
  },
  {
   "cell_type": "code",
   "execution_count": 23,
   "metadata": {},
   "outputs": [
    {
     "name": "stdout",
     "output_type": "stream",
     "text": [
      "Out of  10000  runs, Hamming code identified the presence of an error  100.0  percent of the time.\n"
     ]
    }
   ],
   "source": [
    "ErrorIdentify(1,10000)"
   ]
  },
  {
   "cell_type": "code",
   "execution_count": 24,
   "metadata": {},
   "outputs": [
    {
     "name": "stdout",
     "output_type": "stream",
     "text": [
      "Out of  10000  runs, Hamming code identified the presence of an error  100.0  percent of the time.\n"
     ]
    }
   ],
   "source": [
    "ErrorIdentify(2,10000)"
   ]
  },
  {
   "cell_type": "code",
   "execution_count": 25,
   "metadata": {},
   "outputs": [
    {
     "name": "stdout",
     "output_type": "stream",
     "text": [
      "Out of  10000  runs, Hamming code identified the presence of an error  79.72  percent of the time.\n"
     ]
    }
   ],
   "source": [
    "ErrorIdentify(3,10000)"
   ]
  },
  {
   "cell_type": "markdown",
   "metadata": {},
   "source": [
    "## Question 3"
   ]
  },
  {
   "cell_type": "code",
   "execution_count": 2,
   "metadata": {},
   "outputs": [],
   "source": [
    "import numpy as np\n",
    "import os\n",
    "\n",
    "\n",
    "# building a word dictionary from the input list of documents\n",
    "def compute_dict(path):\n",
    "    \n",
    "    frequency = {}\n",
    "    separate_text_documents = {}\n",
    "    \n",
    "    all_files = os.listdir(path)\n",
    "    for file in all_files:\n",
    "       \n",
    "       # error handling: check if the input files are text files\n",
    "    if not file.endswith('.txt'):\n",
    "           raise ValueError('The files found in the specified folder are not txt files.')\n",
    "    else:\n",
    "           text = []\n",
    "           # open the file and then call .read() to get the text\n",
    "           with open(os.path.join(path, file)) as f:\n",
    "                  for line in f:\n",
    "           # removing their punctuation\n",
    "                  line = line.lower()\n",
    "                  unwanted_punc = ['.', ',','!','?', '(', ')','{','}','[',']', ';', '/', '\\\\', ':']\n",
    "                  for punc in unwanted_punc:\n",
    "                    line = line.replace(punc, '')\n",
    "                    words = line.split()\n",
    "                    for word in words:\n",
    "                    text.append(word)\n",
    "                    if word not in frequency:\n",
    "                        frequency[word] = 1\n",
    "                    else:\n",
    "                        frequency[word] = frequency[word] + 1\n",
    "            separate_text_documents[file] = text\n",
    "    return frequency, separate_text_documents\n",
    "\n",
    "\n",
    "# creating a word vector for each document, and for the search document\n",
    "def create_word_vectors(frequency, documents, search_doc):\n",
    "    list_of_word_vectors = {}\n",
    "    \n",
    "    for file in documents:\n",
    "        word_vector = []\n",
    "        for key in frequency:\n",
    "            if key in documents[file]:\n",
    "                word_vector.append(1)\n",
    "            else:\n",
    "                word_vector.append(0)\n",
    "        list_of_word_vectors[file] = word_vector    \n",
    "\n",
    "    #clean the search document\n",
    "    cleaned_search_doc = []\n",
    "    path = '/Users/kitti/Documents/Python Scripts/Spyder Scripts/Test_textfiles/'\n",
    "    os.chdir(path)\n",
    "    if os.path.isfile(search_doc):\n",
    "        with open(search_doc, \"r\") as f:\n",
    "            for line in f:\n",
    "                line = line.lower()\n",
    "                unwanted_punc = ['.', ',','!','?', '(', ')','{','}','[',']', ';', '/', '\\\\', ':']\n",
    "                for punc in unwanted_punc:\n",
    "                    line = line.replace(punc, '')\n",
    "                words = line.split()\n",
    "                for word in words:\n",
    "                    cleaned_search_doc.append(word)\n",
    "    else:\n",
    "        raise IOError(\"File not accessible.\")\n",
    "    #turn the search document into a word vector\n",
    "    search_doc_vector = []\n",
    "    for key in frequency:\n",
    "        if key in cleaned_search_doc:\n",
    "            search_doc_vector.append(1)\n",
    "        else:\n",
    "            search_doc_vector.append(0)\n",
    "    # return the list of word vectors, and the search document vector\n",
    "    return list_of_word_vectors, search_doc_vector\n",
    "\n",
    "#provide a list of documents that are similar to the given search\n",
    "# document, in descending order of their similarity with the search document\n",
    "def calculate_similarity(word_vectors,search_doc_vector):    \n",
    "    #calculating the dot products & euclidean distance between the search document \n",
    "    #and the list of documents\n",
    "    results_dot = {}\n",
    "    results_eucl = {}\n",
    "    search_doc_vector_ar = np.array(search_doc_vector)\n",
    "    for vector in word_vectors:\n",
    "        word_vector = np.array(word_vectors[vector])        \n",
    "        dotproduct = np.dot(word_vector, search_doc_vector_ar)\n",
    "        results_dot[vector] = dotproduct\n",
    "        euclidean = np.linalg.norm(word_vector - search_doc_vector_ar)\n",
    "        results_eucl[vector] = euclidean\n",
    "    #order the list of documents into a descending order based on the dotproduct\n",
    "    ordered_list_doc = dict(sorted(results_dot.items(), key=lambda item: item[1], reverse=True))\n",
    "    ordered_list_eucl = dict(sorted(results_eucl.items(), key=lambda item: item[1], reverse=False))\n",
    "    return 'Result for dot product: {}'.format(ordered_list_doc.keys()) + '\\nResult for euclidean distance: {}'.format(ordered_list_eucl.keys())\n",
    "\n",
    "\n",
    "#The final function to call\n",
    "def text_similarity(path, search_doc):\n",
    "    frequency, documents = compute_dict(path)\n",
    "    list_of_word_vectors, search_doc_vector = create_word_vectors(frequency, documents, search_doc)\n",
    "    result = calculate_similarity(list_of_word_vectors, search_doc_vector)\n",
    "    return result\n",
    "\n",
    "\n",
    "\n",
    "#Testing\n",
    "path = \"/Users/kitti/Documents/Python Scripts/Spyder Scripts/Test_textfiles/\"\n",
    "search_doc = 'file2.txt'\n",
    "print(text_similarity(path, search_doc))"
   ]
  },
  {
   "cell_type": "markdown",
   "metadata": {},
   "source": [
    "Result for dot product: dict_keys(['file2.txt', 'file.txt', 'file3.txt']) <br>\n",
    "Result for euclidean distance: dict_keys(['file2.txt', 'file.txt', 'file3.txt'])"
   ]
  },
  {
   "cell_type": "code",
   "execution_count": null,
   "metadata": {},
   "outputs": [],
   "source": []
  }
 ],
 "metadata": {
  "kernelspec": {
   "display_name": "Python 3",
   "language": "python",
   "name": "python3"
  },
  "language_info": {
   "codemirror_mode": {
    "name": "ipython",
    "version": 3
   },
   "file_extension": ".py",
   "mimetype": "text/x-python",
   "name": "python",
   "nbconvert_exporter": "python",
   "pygments_lexer": "ipython3",
   "version": "3.8.3"
  }
 },
 "nbformat": 4,
 "nbformat_minor": 2
}
